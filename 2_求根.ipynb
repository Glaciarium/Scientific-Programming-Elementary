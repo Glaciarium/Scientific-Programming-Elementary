{
 "cells": [
  {
   "cell_type": "markdown",
   "id": "bdbf4cc6",
   "metadata": {},
   "source": [
    "# 算法一：二分法搜索"
   ]
  },
  {
   "cell_type": "markdown",
   "id": "42020274",
   "metadata": {},
   "source": [
    "## 1. 相关知识"
   ]
  },
  {
   "cell_type": "markdown",
   "id": "000f0cc8",
   "metadata": {},
   "source": [
    "- 基本原理：**函数零点存在性定理**  \n",
    "    对于连续函数$f(x)$构成的方程：$f(x) = 0$ ，如果在区间$[a,b]$上满足：$f(a) f(b) < 0$ ，则区间$[a,b]$内至少存在一点$\\epsilon$，使得$f(\\epsilon) = 0$ 。\n",
    "\n",
    "- 简单推导：<br>\n",
    "    取区间中点$c = \\dfrac{a+b} 2$，如果$f(a) f(c) < 0$，则根位于区间$[a,c]$内；否则根位于区间$[c,b]$内。对根存在的区间继续取中点，以此类推，直到当前根（cur_root）的函数值小于可接受误差为止。"
   ]
  },
  {
   "cell_type": "markdown",
   "id": "44243487",
   "metadata": {},
   "source": [
    "## 2.  求解2021的9次方根"
   ]
  },
  {
   "cell_type": "code",
   "execution_count": 83,
   "id": "9acf15fa",
   "metadata": {},
   "outputs": [
    {
     "name": "stdout",
     "output_type": "stream",
     "text": [
      "请输入正被开方数y与正整数n\n"
     ]
    }
   ],
   "source": [
    "print(\"请输入正被开方数y与正整数n\") # 限制在实数范围的内开方运算\n",
    "def myPow(y,n):\n",
    "    epsilon = 0.000001\n",
    "    low = min(1.0,y)\n",
    "    high = max(1.0,y)\n",
    "    m = (low + high)/ 2.0   \n",
    "    while abs(m**n - y)> epsilon:  \n",
    "        if  m**n - y > 0:\n",
    "            high = m\n",
    "        else:\n",
    "            low = m\n",
    "        m = (low+high)/ 2.0\n",
    "    return m"
   ]
  },
  {
   "cell_type": "code",
   "execution_count": 84,
   "id": "65eec6b1",
   "metadata": {},
   "outputs": [
    {
     "data": {
      "text/plain": [
       "2.329620320977938"
      ]
     },
     "execution_count": 84,
     "metadata": {},
     "output_type": "execute_result"
    }
   ],
   "source": [
    "myPow(2021,9)"
   ]
  },
  {
   "cell_type": "markdown",
   "id": "3f959392",
   "metadata": {},
   "source": [
    "# 算法二：梯度下降"
   ]
  },
  {
   "cell_type": "markdown",
   "id": "21a8a669",
   "metadata": {},
   "source": [
    "## 1. 相关知识"
   ]
  },
  {
   "cell_type": "markdown",
   "id": "a10c029d",
   "metadata": {},
   "source": [
    "- 基本原理：     \n",
    "   假设一位测量员站在某个山峰的峰顶，他要在天黑前到达山谷的供给站。如果不考虑下山的安全性，那么最快的方法就是以当前的位置为基准，寻找该位置最陡峭的地方，然后沿该方向往下走；走过一段距离后，再以当前位置为基准，重新寻找最陡峭的地方，直到最低处。然而下山的路径只能够根据每一次停留时的探测决定，测量又会造成耗时。因此他需要确定一个`合适的测量方向的频率`，来确保既能到达供给点，又不至于耗时太多。\n",
    "   梯度下降的基本过程就和下山的场景很类似。首先，我们有一个`可微分`的函数。这个函数就代表着一座山。我们的目标就是找到这个函数的最小值，也就是山底。根据之前的场景假设，最快的下山的方式就是找到当前位置最陡峭的方向，然后沿着此方向向下走，对应到函数中，就是找到给定点的梯度 ，然后朝着梯度相反的方向，就能让函数值下降的最快！因为梯度的方向就是函数之变化最快的方向。\n",
    "\n",
    "- 简单推导：<br>\n",
    "  `梯度（gradient） ` $\\nabla$  \n",
    "  \\begin{array}{cc}\n",
    "  \\nabla f(x)=\\dfrac{\\partial f(x)}{\\partial x_1} \\vec{e_{x1}} +\\dfrac{\\partial f(x)}{\\partial x_2} \\vec{e_{x2}}+ ...+\\dfrac{\\partial f(x)}{\\partial x_n} \\vec{e_{xn}} \\\\\\\\   \n",
    "  =[\\dfrac{\\partial f(x)}{\\partial x_1}, \\dfrac{\\partial f(x)}{\\partial x_2}, ..., \\dfrac{\\partial f(x)}{\\partial x_n}]^T \n",
    "  \\end{array}  \n",
    "   即上述的“山坡陡峭程度”。梯度是一个向量，梯度的方向是函数在指定点上升最快的方向，那么梯度的反方向自然是下降最快的方向了。\n",
    "  `步长（learning rate）` $\\alpha$  \n",
    "  步长决定了在梯度下降迭代的过程中，每一步沿梯度负方向前进的长度。  \n",
    "  `损失函数（cost function/loss function）` $L(x)$  \n",
    "  $$L(x)=\\dfrac{1}{2}(x^n - y)^2 $$  \n",
    "  为了评估模型拟合的好坏，通常用损失函数来度量拟合的程度。损失函数极小化，意味着拟合程度最好，对应的模型参数即为最优参数。\n",
    "  \n",
    "  **将求$n$次方根的问题转化为优化问题(极值问题)。构造损失$L(x)$，寻找使$L(x)$最小的$x$ ，使之满足$x^n=y$。**\n",
    "  $$x_{n+1}=x_n - \\alpha L'(x_n)$$"
   ]
  },
  {
   "cell_type": "markdown",
   "id": "a6e7e2fb",
   "metadata": {},
   "source": [
    "## 2. 求解2021的9次方根\n",
    "`不知道哪里出现了问题，希望老师指点`"
   ]
  },
  {
   "cell_type": "code",
   "execution_count": 157,
   "id": "a67eb16c",
   "metadata": {},
   "outputs": [
    {
     "name": "stdout",
     "output_type": "stream",
     "text": [
      "请输入步长alpha、正被开方数y与正整数n\n"
     ]
    }
   ],
   "source": [
    "import matplotlib.pyplot as plt\n",
    "%matplotlib inline\n",
    "\n",
    "# 梯度下降算法定义\n",
    "print(\"请输入步长alpha、正被开方数y与正整数n\")\n",
    "def gradient_descent(alpha,y,n):\n",
    "    plt.xlabel(\"$X$\")\n",
    "    plt.ylabel(\"L\")\n",
    "    plt.title(\"$L=l(x)$\") \n",
    "    \n",
    "# 损失函数定义\n",
    "def mylost(x):\n",
    "    x = y / 2\n",
    "    l = ((x^n - y)^2 )/2 \n",
    "    return l\n",
    "    \n",
    "    epsilon = 0.000001\n",
    "    while l > epsilon: \n",
    "        x = x - alpha * (x-y) * (n * x^(n-1)) \n",
    "        y = l\n",
    "        print(\"第%d次迭代：x=%f，y=%f\" % (i + 1, x, y))\n",
    "        plt.plot(x, l, \"r.\")\n",
    "        return (x)"
   ]
  },
  {
   "cell_type": "code",
   "execution_count": 154,
   "id": "ca97e82d",
   "metadata": {},
   "outputs": [
    {
     "name": "stdout",
     "output_type": "stream",
     "text": [
      "x\n"
     ]
    },
    {
     "data": {
      "image/png": "[encoded data removed]",
      "text/plain": [
       "<Figure size 432x288 with 1 Axes>"
      ]
     },
     "metadata": {
      "needs_background": "light"
     },
     "output_type": "display_data"
    }
   ],
   "source": [
    "gradient_descent(0.1,2021,9)\n",
    "print(x)"
   ]
  },
  {
   "cell_type": "code",
   "execution_count": 158,
   "id": "9cf47329",
   "metadata": {},
   "outputs": [
    {
     "ename": "SyntaxError",
     "evalue": "'return' outside function (<ipython-input-158-432b271bdb4a>, line 2)",
     "output_type": "error",
     "traceback": [
      "\u001b[1;36m  File \u001b[1;32m\"<ipython-input-158-432b271bdb4a>\"\u001b[1;36m, line \u001b[1;32m2\u001b[0m\n\u001b[1;33m    return (x)\u001b[0m\n\u001b[1;37m    ^\u001b[0m\n\u001b[1;31mSyntaxError\u001b[0m\u001b[1;31m:\u001b[0m 'return' outside function\n"
     ]
    },
    {
     "data": {
      "image/png": "[encoded data removed]",
      "text/plain": [
       "<Figure size 432x288 with 1 Axes>"
      ]
     },
     "metadata": {
      "needs_background": "light"
     },
     "output_type": "display_data"
    }
   ],
   "source": [
    "gradient_descent(0.01,2021,9)\n",
    "return (x)"
   ]
  },
  {
   "cell_type": "markdown",
   "id": "7abb92d2",
   "metadata": {},
   "source": [
    "# 算法三： 牛顿迭代法"
   ]
  },
  {
   "cell_type": "markdown",
   "id": "51ba2218",
   "metadata": {},
   "source": [
    "## 1. 相关知识"
   ]
  },
  {
   "cell_type": "markdown",
   "id": "d647764c",
   "metadata": {},
   "source": [
    "- 基本原理：  \n",
    "    在已知方程$f(x)=0$的零点处做曲线的切线，其切线函数为$f(x)$的一阶泰勒展开式$p(x)$。通过这样的代替（即方程转化为$p(x)=0$）可以得到相对容易求解的多项式方程，从而近似地表示原方程零点。\n",
    "- 简单推导  \n",
    "    `一阶泰勒展开式`\n",
    "$$p(x)=f(x_0)=f'(x_0)(x-x_0)$$\n",
    "    **通过反复迭代，得到格式**\n",
    "$$x_{n+1}=x_n - \\dfrac{f(x_n)}{f’(x_n)}$$"
   ]
  },
  {
   "cell_type": "markdown",
   "id": "17b70656",
   "metadata": {},
   "source": [
    "## 2. 求解2021的9次方根\n",
    "这段代码主要借鉴自[CSDN一篇博客](URL 'https://blog.csdn.net/weixin_48615832/article/details/109285701')"
   ]
  },
  {
   "cell_type": "code",
   "execution_count": 160,
   "id": "69492f0e",
   "metadata": {},
   "outputs": [
    {
     "name": "stdout",
     "output_type": "stream",
     "text": [
      "迭代第202次后，误差为0\n",
      "所求方程式的根为2.32962032098793\n"
     ]
    },
    {
     "data": {
      "image/png": "[encoded data removed]",
      "text/plain": [
       "<Figure size 432x288 with 1 Axes>"
      ]
     },
     "metadata": {
      "needs_background": "light"
     },
     "output_type": "display_data"
    }
   ],
   "source": [
    "import matplotlib.pyplot as plt\n",
    "\n",
    "x0 = 0.1\n",
    "x_list = [x0]\n",
    "x_values = []\n",
    "y_values = []\n",
    "i = 0\n",
    "\n",
    "def f(x):\n",
    "    f = x**9 - 2021\n",
    "    return f\n",
    "\n",
    "while True:\n",
    "    if diff(f(x),x).subs(x,x0) == 0:\n",
    "        print('极值点：',x0)\n",
    "        break\n",
    "# math_expression.subs(variable, substitute) 可将数学表达式中的变量或表达式的所有实例替换为其他变量或表达式或值。\n",
    "# diff(func,x,n) func-要求导的函数，x-要对其求导的变量，n是可选的，表示求n阶导数，默认一阶。（与Linux用法不一样）\n",
    "    else: \n",
    "        x0 = x0 - f(x0)/diff(f(x),x).subs(x,x0) \n",
    "        x_list.append(x0)\n",
    "# list.append(obj) obj参数 - 添加到列表末尾的对象。 该方法无返回值，但是会修改原来的列表。\n",
    "    if len(x_list) > 1:\n",
    "# len(list) list参数 - 要计算元素个数的列表。返回值 - 返回列表元素个数;当对象是字符串时，返回字符串中的字符数。\n",
    "        i += 1\n",
    "        error = abs((x_list[-1] - x_list[-2]) / x_list[-1])\n",
    "        x_values.append(i)\n",
    "# dict.values()  返回值 - 返回字典中的所有值。 可以利用通配符\n",
    "        y_values.append(error)\n",
    "        if error == 0:\n",
    "            print(f'迭代第{i}次后，误差为0')\n",
    "            break\n",
    "    else:\n",
    "        pass\n",
    "\n",
    "print(f'所求方程式的根为{x_list[-1]}')\n",
    "plt.plot(x_values,y_values,color = 'blue',marker = 'o')\n",
    "plt.xlabel('迭代次数')\n",
    "plt.ylabel('误差值')\n",
    "plt.show()"
   ]
  },
  {
   "cell_type": "code",
   "execution_count": null,
   "id": "d61dd33d",
   "metadata": {},
   "outputs": [],
   "source": []
  }
 ],
 "metadata": {
  "kernelspec": {
   "display_name": "Python 3",
   "language": "python",
   "name": "python3"
  },
  "language_info": {
   "codemirror_mode": {
    "name": "ipython",
    "version": 3
   },
   "file_extension": ".py",
   "mimetype": "text/x-python",
   "name": "python",
   "nbconvert_exporter": "python",
   "pygments_lexer": "ipython3",
   "version": "3.8.8"
  }
 },
 "nbformat": 4,
 "nbformat_minor": 5
}
