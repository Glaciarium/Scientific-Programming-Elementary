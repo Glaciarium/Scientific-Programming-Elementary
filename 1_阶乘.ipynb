{
 "cells": [
  {
   "cell_type": "markdown",
   "id": "97cfce61",
   "metadata": {},
   "source": [
    "# 阶乘的计算"
   ]
  },
  {
   "cell_type": "markdown",
   "id": "0151b546",
   "metadata": {},
   "source": [
    "## 方法一：`for loop`"
   ]
  },
  {
   "cell_type": "code",
   "execution_count": 28,
   "id": "5b9f167f",
   "metadata": {},
   "outputs": [
    {
     "name": "stdout",
     "output_type": "stream",
     "text": [
      "6\n"
     ]
    }
   ],
   "source": [
    "ans = 1\n",
    "L = [2,3]\n",
    "\n",
    "for i in L:\n",
    "    ans = ans*i\n",
    "print (ans)"
   ]
  },
  {
   "cell_type": "markdown",
   "id": "8512a248",
   "metadata": {},
   "source": [
    "## 方法二：`while loop`"
   ]
  },
  {
   "cell_type": "code",
   "execution_count": 29,
   "id": "556b7982",
   "metadata": {
    "scrolled": false
   },
   "outputs": [
    {
     "name": "stdout",
     "output_type": "stream",
     "text": [
      "6\n"
     ]
    }
   ],
   "source": [
    "ans = 1\n",
    "i = 1\n",
    "\n",
    "while i < 4:\n",
    "    ans = ans*i\n",
    "    i = i+1\n",
    "print(ans)"
   ]
  },
  {
   "cell_type": "markdown",
   "id": "1806be51",
   "metadata": {},
   "source": [
    "## 方法三： `库函数调用`"
   ]
  },
  {
   "cell_type": "code",
   "execution_count": 30,
   "id": "39920814",
   "metadata": {},
   "outputs": [
    {
     "name": "stdout",
     "output_type": "stream",
     "text": [
      "Help on built-in function factorial in module math:\n",
      "\n",
      "factorial(x, /)\n",
      "    Find x!.\n",
      "    \n",
      "    Raise a ValueError if x is negative or non-integral.\n",
      "\n",
      "Help on built-in function factorial in module math:\n",
      "\n",
      "factorial(x, /)\n",
      "    Find x!.\n",
      "    \n",
      "    Raise a ValueError if x is negative or non-integral.\n",
      "\n"
     ]
    }
   ],
   "source": [
    "help (math.factorial)\n",
    "help (numpy.math.factorial)"
   ]
  },
  {
   "cell_type": "code",
   "execution_count": 31,
   "id": "caad3004",
   "metadata": {},
   "outputs": [
    {
     "data": {
      "text/plain": [
       "6"
      ]
     },
     "execution_count": 31,
     "metadata": {},
     "output_type": "execute_result"
    }
   ],
   "source": [
    "import math\n",
    "math.factorial(3)"
   ]
  },
  {
   "cell_type": "code",
   "execution_count": 32,
   "id": "2ea56799",
   "metadata": {
    "scrolled": true
   },
   "outputs": [
    {
     "data": {
      "text/plain": [
       "6"
      ]
     },
     "execution_count": 32,
     "metadata": {},
     "output_type": "execute_result"
    }
   ],
   "source": [
    "import numpy as np\n",
    "np.math.factorial(3)"
   ]
  },
  {
   "cell_type": "markdown",
   "id": "b9fa1e37",
   "metadata": {},
   "source": [
    "## 方法四：`自定义函数`"
   ]
  },
  {
   "cell_type": "code",
   "execution_count": 68,
   "id": "cad6633d",
   "metadata": {},
   "outputs": [],
   "source": [
    "import math\n",
    "def myfactorial1(n):    #可以不用取整\n",
    "    N = math.floor(n)      #用type()或者isinstance()\n",
    "    if n-N > 0:        #if type(n) != int:\n",
    "        print (\"It's a floating point.\")\n",
    "    elif n < 0:\n",
    "        print (\"It's a negative number.\")\n",
    "    else:     # ？为什么必须缩进 \n",
    "        return(math.factorial(n))"
   ]
  },
  {
   "cell_type": "code",
   "execution_count": 120,
   "id": "839b0833",
   "metadata": {},
   "outputs": [
    {
     "data": {
      "text/plain": [
       "6"
      ]
     },
     "execution_count": 120,
     "metadata": {},
     "output_type": "execute_result"
    }
   ],
   "source": [
    "myfactorial1(3)"
   ]
  },
  {
   "cell_type": "markdown",
   "id": "b4afc218",
   "metadata": {},
   "source": [
    "##  方法五：`递归函数`"
   ]
  },
  {
   "cell_type": "code",
   "execution_count": 55,
   "id": "2957bc34",
   "metadata": {},
   "outputs": [],
   "source": [
    "def myfactorial2(n):\n",
    "    if n == 1:\n",
    "        return 1\n",
    "    else:\n",
    "        return n*myfactorial2(n-1)"
   ]
  },
  {
   "cell_type": "code",
   "execution_count": 56,
   "id": "f6a4fa9d",
   "metadata": {},
   "outputs": [
    {
     "data": {
      "text/plain": [
       "6"
      ]
     },
     "execution_count": 56,
     "metadata": {},
     "output_type": "execute_result"
    }
   ],
   "source": [
    "myfactorial2(3)"
   ]
  },
  {
   "cell_type": "markdown",
   "id": "6162309f",
   "metadata": {},
   "source": [
    "## 方法六：`reduce 函数`"
   ]
  },
  {
   "cell_type": "code",
   "execution_count": 59,
   "id": "20002b12",
   "metadata": {},
   "outputs": [
    {
     "data": {
      "text/plain": [
       "6"
      ]
     },
     "execution_count": 59,
     "metadata": {},
     "output_type": "execute_result"
    }
   ],
   "source": [
    "n=3\n",
    "from functools import reduce\n",
    "reduce(lambda x,y:x*y,range(1,n+1))"
   ]
  },
  {
   "cell_type": "markdown",
   "id": "2f704c81",
   "metadata": {},
   "source": [
    "# 证明：733=7+3!+3!!"
   ]
  },
  {
   "cell_type": "code",
   "execution_count": 1,
   "id": "a47e3da8",
   "metadata": {},
   "outputs": [
    {
     "name": "stdout",
     "output_type": "stream",
     "text": [
      "Step 1 is wrong.\n",
      "Step 2 is wrong.\n"
     ]
    },
    {
     "ename": "NameError",
     "evalue": "name 'm' is not defined",
     "output_type": "error",
     "traceback": [
      "\u001b[1;31m---------------------------------------------------------------------------\u001b[0m",
      "\u001b[1;31mNameError\u001b[0m                                 Traceback (most recent call last)",
      "\u001b[1;32m<ipython-input-1-47accdbaec6c>\u001b[0m in \u001b[0;36m<module>\u001b[1;34m\u001b[0m\n\u001b[0;32m     33\u001b[0m     \u001b[0mprint\u001b[0m \u001b[1;33m(\u001b[0m\u001b[1;34m\"Step 2 is wrong.\"\u001b[0m\u001b[1;33m)\u001b[0m\u001b[1;33m\u001b[0m\u001b[1;33m\u001b[0m\u001b[0m\n\u001b[0;32m     34\u001b[0m \u001b[1;33m\u001b[0m\u001b[0m\n\u001b[1;32m---> 35\u001b[1;33m \u001b[1;32mif\u001b[0m \u001b[0mm\u001b[0m \u001b[1;33m==\u001b[0m \u001b[0mf\u001b[0m\u001b[1;33m:\u001b[0m\u001b[1;33m\u001b[0m\u001b[1;33m\u001b[0m\u001b[0m\n\u001b[0m\u001b[0;32m     36\u001b[0m     \u001b[0mprint\u001b[0m \u001b[1;33m(\u001b[0m\u001b[1;34m\"Succeess!\"\u001b[0m\u001b[1;33m)\u001b[0m\u001b[1;33m\u001b[0m\u001b[1;33m\u001b[0m\u001b[0m\n\u001b[0;32m     37\u001b[0m \u001b[1;32melse\u001b[0m\u001b[1;33m:\u001b[0m\u001b[1;33m\u001b[0m\u001b[1;33m\u001b[0m\u001b[0m\n",
      "\u001b[1;31mNameError\u001b[0m: name 'm' is not defined"
     ]
    }
   ],
   "source": [
    "# 先自定义函数fn并作为模块引入\n",
    "import math\n",
    "d = math.factorial(3) \n",
    "e = math.factorial(d)\n",
    "f = 733    \n",
    "def myfactorial(n):\n",
    "    if type(n) != int:\n",
    "        print (\"It's a floating point.\")\n",
    "    elif n < 0:\n",
    "        print (\"It's a negative number.\")\n",
    "    else: \n",
    "        if n == 1:\n",
    "            return 1\n",
    "        else:\n",
    "            return n*myfactorial(n-1)\n",
    "        \n",
    "    import myfactorial as fn\n",
    "    a = fn(3)     \n",
    "    b = fn(a)\n",
    "    c = 7 \n",
    "    m = a+b+c\n",
    "\n",
    "try: \n",
    "    a == d\n",
    "    print (\"Step 1 is correct.\")\n",
    "except:\n",
    "    print (\"Step 1 is wrong.\")\n",
    "\n",
    "try: \n",
    "    b == e\n",
    "    print (\"Step 2 is correct.\")\n",
    "except:\n",
    "    print (\"Step 2 is wrong.\")\n",
    "\n",
    "if m == f:\n",
    "    print (\"Succeess!\")\n",
    "else:\n",
    "    print (\"Failed.\")     "
   ]
  }
 ],
 "metadata": {
  "kernelspec": {
   "display_name": "Python 3",
   "language": "python",
   "name": "python3"
  },
  "language_info": {
   "codemirror_mode": {
    "name": "ipython",
    "version": 3
   },
   "file_extension": ".py",
   "mimetype": "text/x-python",
   "name": "python",
   "nbconvert_exporter": "python",
   "pygments_lexer": "ipython3",
   "version": "3.8.8"
  }
 },
 "nbformat": 4,
 "nbformat_minor": 5
}
